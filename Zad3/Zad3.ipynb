{
  "nbformat": 4,
  "nbformat_minor": 0,
  "metadata": {
    "colab": {
      "name": "Zad3.ipynb",
      "provenance": [],
      "collapsed_sections": [],
      "toc_visible": true,
      "authorship_tag": "ABX9TyNOkd0DpusW9Eqg/KxGNVy0",
      "include_colab_link": true
    },
    "kernelspec": {
      "name": "python3",
      "display_name": "Python 3"
    }
  },
  "cells": [
    {
      "cell_type": "markdown",
      "metadata": {
        "id": "view-in-github",
        "colab_type": "text"
      },
      "source": [
        "<a href=\"https://colab.research.google.com/github/RyniekSzkola/Uczenie-maszynowe-rynski-175IC-B1/blob/main/Zad3/Zad3.ipynb\" target=\"_parent\"><img src=\"https://colab.research.google.com/assets/colab-badge.svg\" alt=\"Open In Colab\"/></a>"
      ]
    },
    {
      "cell_type": "code",
      "metadata": {
        "id": "G8cExySalvGn"
      },
      "source": [
        "import numpy as np"
      ],
      "execution_count": 2,
      "outputs": []
    },
    {
      "cell_type": "code",
      "metadata": {
        "colab": {
          "base_uri": "https://localhost:8080/"
        },
        "id": "8UMS_QEMhuMN",
        "outputId": "c0a64fd9-4811-47a0-bce9-ff14717e6a5f"
      },
      "source": [
        "print('Tworzenie dwóch list')\n",
        "list = [1, 2, 3, 'test', 'test2']\n",
        "list2 = [4, 5, 6]\n",
        "print(list)\n",
        "print(list2)\n",
        "\n",
        "print('Wyświetlenie wszystkich elementów po indeksie numer 2')\n",
        "print(list[3:])\n",
        "\n",
        "print('Dodawanie obu list do siebie')\n",
        "print(list + list2)\n",
        "\n",
        "print('Konwersja Stringa od indeksie 3 w tablicy do dużych liter')\n",
        "print(list[3].upper())\n",
        "\n",
        "print('Zamiana tablicy na listę')\n",
        "arrayToList = np.array(list)\n",
        "print(arrayToList)\n",
        "\n",
        "print('Dodanie za pomocą biblioteki Numpy nowej wartości na koniec listy')\n",
        "print(np.append(arrayToList, 'dodane'))"
      ],
      "execution_count": 4,
      "outputs": [
        {
          "output_type": "stream",
          "text": [
            "Tworzenie dwóch list\n",
            "[1, 2, 3, 'test', 'test2']\n",
            "[4, 5, 6]\n",
            "Wyświetlenie wszystkich elementów po indeksie numer 2\n",
            "['test', 'test2']\n",
            "Dodawanie obu list do siebie\n",
            "[1, 2, 3, 'test', 'test2', 4, 5, 6]\n",
            "Konwersja Stringa od indeksie 3 w tablicy do dużych liter\n",
            "TEST\n",
            "Zamiana tablicy na listę\n",
            "['1' '2' '3' 'test' 'test2']\n",
            "Dodanie za pomocą biblioteki Numpy nowej wartości na koniec listy\n",
            "['1' '2' '3' 'test' 'test2' 'dodane']\n"
          ],
          "name": "stdout"
        }
      ]
    },
    {
      "cell_type": "code",
      "metadata": {
        "colab": {
          "base_uri": "https://localhost:8080/"
        },
        "id": "T5opuSBnlrCc",
        "outputId": "92e54daa-7b6e-442e-dd67-e1cb66861ee5"
      },
      "source": [
        "#NumPy Basics\n",
        "\n",
        "list = np.array([1, 2, 3, 4])\n",
        "\n",
        "print('\\nWyświetlenie wymiaru tablicy')\n",
        "print(list.ndim)\n",
        "\n",
        "list2 = np.array([2, 3, 7, 8])\n",
        "\n",
        "print('Mnożenie dwóch tablic o tym samym rozmiarze')\n",
        "print(np.multiply(list, list2))\n",
        "\n",
        "print('Pobranie największej wartości z tablicy')\n",
        "print(list.max())\n",
        "\n",
        "print('Zmiana rozmiaru tablicy na 5 elementów')\n",
        "print(np.resize(list,5))\n",
        "\n",
        "print('Rozdzielenie wszystkich elementów tablicy na oddzielne tablice')\n",
        "print(np.hsplit(list, 4))"
      ],
      "execution_count": 9,
      "outputs": [
        {
          "output_type": "stream",
          "text": [
            "\n",
            "Wyświetlenie wymiaru tablicy\n",
            "1\n",
            "Mnożenie dwóch tablic o tym samym rozmiarze\n",
            "[ 2  6 21 32]\n",
            "Pobranie największej wartości z tablicy\n",
            "4\n",
            "Zmiana rozmiaru tablicy na 5 elementów\n",
            "[1 2 3 4 1]\n",
            "Rozdzielenie wszystkich elementów tablicy na oddzielne tablice\n",
            "[array([1]), array([2]), array([3]), array([4])]\n"
          ],
          "name": "stdout"
        }
      ]
    },
    {
      "cell_type": "code",
      "metadata": {
        "colab": {
          "base_uri": "https://localhost:8080/"
        },
        "id": "--uZRUg1mpu6",
        "outputId": "9c93b423-856f-4e5a-92e7-ad019b55345a"
      },
      "source": [
        "#SciPy - Linear Algebra\n",
        "from scipy import linalg, sparse\n",
        "\n",
        "print('Tworzenie macierzy 3x3 z losowymi wartościami od 0 do 1')\n",
        "randomMatrix = np.matrix(np.random.random((3,3)))\n",
        "print(randomMatrix)\n",
        "\n",
        "print('Transpozycja macierzy')\n",
        "print(randomMatrix.T)\n",
        "\n",
        "print('Odejmowanie od macierzy wybranej wartości')\n",
        "print(np.subtract(randomMatrix, 0.1))\n",
        "\n",
        "print('Logarytm macierzy')\n",
        "newMatrix = np.mat([[5,5], [2,3]])\n",
        "print(linalg.logm(newMatrix))\n",
        "\n",
        "print('Maksymalna suma kolumn')\n",
        "print(linalg.norm(newMatrix,1))"
      ],
      "execution_count": 30,
      "outputs": [
        {
          "output_type": "stream",
          "text": [
            "Tworzenie macierzy 3x3 z losowymi wartościami od 0 do 1\n",
            "[[0.26632973 0.35472082 0.52432571]\n",
            " [0.86491928 0.79058542 0.81858573]\n",
            " [0.43896736 0.89620056 0.05752684]]\n",
            "Transpozycja macierzy\n",
            "[[0.26632973 0.86491928 0.43896736]\n",
            " [0.35472082 0.79058542 0.89620056]\n",
            " [0.52432571 0.81858573 0.05752684]]\n",
            "Odejmowanie od macierzy wybranej wartości\n",
            "[[ 0.16632973  0.25472082  0.42432571]\n",
            " [ 0.76491928  0.69058542  0.71858573]\n",
            " [ 0.33896736  0.79620056 -0.04247316]]\n",
            "Logarytm macierzy\n",
            "[[1.1621396  1.78710322]\n",
            " [0.71484129 0.44729831]]\n",
            "\n",
            "Maksymalna suma kolumn\n",
            "8.0\n"
          ],
          "name": "stdout"
        }
      ]
    },
    {
      "cell_type": "code",
      "metadata": {
        "colab": {
          "base_uri": "https://localhost:8080/"
        },
        "id": "I_GrSxMcpiCK",
        "outputId": "f578c509-c360-4aad-9aee-bfa66601415d"
      },
      "source": [
        "import pandas as pd\n",
        "\n",
        "#Pandas Basics\n",
        "\n",
        "data = {'Imie': ['Michal', 'Adam', 'Bartosz', 'Jakub'],\n",
        " 'Nazwisko': ['Nowak', 'Kowalski', 'Duda', 'Kowal'],\n",
        " 'Wiek': [18, 21, 24, 19]}\n",
        "df = pd.DataFrame(data, columns=['Imie', 'Nazwisko', 'Wiek'])\n",
        "print(df)\n",
        "\n",
        "print('Pobranie opisu oraz typu kolumn')\n",
        "print(df.columns)\n",
        "\n",
        "print('Wyświetlenie rozmiaru DataFrame')\n",
        "print(df.shape)\n",
        "\n",
        "print('Wyświetlenie sumarycznych statystyk DataFrame')\n",
        "print(df.describe())\n",
        "\n",
        "print('Sortowanie wartości rosnąco(domyślne sortowanie) po kolumnie Wiek')\n",
        "print(df.sort_values(by='Wiek'))\n",
        "\n",
        "print('Usunięcie kolumny Nazwisko')\n",
        "print(df.drop('Nazwisko', axis=1))"
      ],
      "execution_count": 39,
      "outputs": [
        {
          "output_type": "stream",
          "text": [
            "      Imie  Nazwisko  Wiek\n",
            "0   Michal     Nowak    18\n",
            "1     Adam  Kowalski    21\n",
            "2  Bartosz      Duda    24\n",
            "3    Jakub     Kowal    19\n",
            "Pobranie opisu oraz typu kolumn\n",
            "Index(['Imie', 'Nazwisko', 'Wiek'], dtype='object')\n",
            "Wyświetlenie rozmiaru DataFrame\n",
            "(4, 3)\n",
            "Wyświetlenie sumarycznych statystyk DataFrame\n",
            "            Wiek\n",
            "count   4.000000\n",
            "mean   20.500000\n",
            "std     2.645751\n",
            "min    18.000000\n",
            "25%    18.750000\n",
            "50%    20.000000\n",
            "75%    21.750000\n",
            "max    24.000000\n",
            "Sortowanie wartości rosnąco(domyślne sortowanie) po kolumnie Wiek\n",
            "      Imie  Nazwisko  Wiek\n",
            "0   Michal     Nowak    18\n",
            "3    Jakub     Kowal    19\n",
            "1     Adam  Kowalski    21\n",
            "2  Bartosz      Duda    24\n",
            "      Imie  Wiek\n",
            "0   Michal    18\n",
            "1     Adam    21\n",
            "2  Bartosz    24\n",
            "3    Jakub    19\n"
          ],
          "name": "stdout"
        }
      ]
    },
    {
      "cell_type": "code",
      "metadata": {
        "colab": {
          "base_uri": "https://localhost:8080/"
        },
        "id": "9u7FT7uusFOw",
        "outputId": "01d65e76-fc93-486d-eebe-e86ab6d6e11a"
      },
      "source": [
        "from sklearn.model_selection import train_test_split\n",
        "from sklearn import preprocessing\n",
        "from sklearn.preprocessing import StandardScaler\n",
        "from sklearn import neighbors\n",
        "\n",
        "#Scikit-Learn\n",
        "\n",
        "df = pd.read_csv(\"https://storage.googleapis.com/esmartdata-courses-files/ml-course/insurance.csv\")\n",
        "\n",
        "print('Zmieniamy na wartości liczbowe co się da')\n",
        "df = pd.get_dummies(df, drop_first=True)\n",
        "print(df)\n",
        "\n",
        "print('Dzielimy na dane wchodzące i wychodzące')\n",
        "data = df.copy()\n",
        "target = data.pop('charges')\n",
        "print(data)\n",
        "print(target)\n",
        "\n",
        "print('Podział zbioru na zbiór uczący i trenujący ')\n",
        "X_train, X_test, y_train, y_test = train_test_split(data, target, train_size=0.2)\n",
        "print(X_train, y_train)\n",
        "\n",
        "print('Standaryzacja wartości')\n",
        "scaler = StandardScaler().fit(X_train)\n",
        "standardized_X = scaler.transform(X_train)\n",
        "standardized_X_test = scaler.transform(X_test)\n",
        "print(standardized_X, standardized_X_test)"
      ],
      "execution_count": 51,
      "outputs": [
        {
          "output_type": "stream",
          "text": [
            "Zmieniamy na wartości liczbowe co się da\n",
            "      age     bmi  ...  region_southeast  region_southwest\n",
            "0      19  27.900  ...                 0                 1\n",
            "1      18  33.770  ...                 1                 0\n",
            "2      28  33.000  ...                 1                 0\n",
            "3      33  22.705  ...                 0                 0\n",
            "4      32  28.880  ...                 0                 0\n",
            "...   ...     ...  ...               ...               ...\n",
            "1333   50  30.970  ...                 0                 0\n",
            "1334   18  31.920  ...                 0                 0\n",
            "1335   18  36.850  ...                 1                 0\n",
            "1336   21  25.800  ...                 0                 1\n",
            "1337   61  29.070  ...                 0                 0\n",
            "\n",
            "[1338 rows x 9 columns]\n",
            "Dzielimy na dane wchodzące i wychodzące\n",
            "      age     bmi  ...  region_southeast  region_southwest\n",
            "0      19  27.900  ...                 0                 1\n",
            "1      18  33.770  ...                 1                 0\n",
            "2      28  33.000  ...                 1                 0\n",
            "3      33  22.705  ...                 0                 0\n",
            "4      32  28.880  ...                 0                 0\n",
            "...   ...     ...  ...               ...               ...\n",
            "1333   50  30.970  ...                 0                 0\n",
            "1334   18  31.920  ...                 0                 0\n",
            "1335   18  36.850  ...                 1                 0\n",
            "1336   21  25.800  ...                 0                 1\n",
            "1337   61  29.070  ...                 0                 0\n",
            "\n",
            "[1338 rows x 8 columns]\n",
            "0       16884.92400\n",
            "1        1725.55230\n",
            "2        4449.46200\n",
            "3       21984.47061\n",
            "4        3866.85520\n",
            "           ...     \n",
            "1333    10600.54830\n",
            "1334     2205.98080\n",
            "1335     1629.83350\n",
            "1336     2007.94500\n",
            "1337    29141.36030\n",
            "Name: charges, Length: 1338, dtype: float64\n",
            "Podział zbioru na zbiór uczący i trenujący \n",
            "      age    bmi  ...  region_southeast  region_southwest\n",
            "514    39  28.30  ...                 0                 1\n",
            "643    23  34.96  ...                 0                 0\n",
            "23     34  31.92  ...                 0                 0\n",
            "945    56  35.80  ...                 0                 1\n",
            "1306   29  21.85  ...                 0                 0\n",
            "...   ...    ...  ...               ...               ...\n",
            "881    23  27.36  ...                 0                 0\n",
            "29     31  36.30  ...                 0                 1\n",
            "564    18  32.12  ...                 1                 0\n",
            "801    64  35.97  ...                 1                 0\n",
            "262    52  24.32  ...                 0                 0\n",
            "\n",
            "[267 rows x 8 columns] 514     21082.1600\n",
            "643      4466.6214\n",
            "23      37701.8768\n",
            "945     11674.1300\n",
            "1306    16115.3045\n",
            "           ...    \n",
            "881      2789.0574\n",
            "29      38711.0000\n",
            "564      2801.2588\n",
            "801     14313.8463\n",
            "262     24869.8368\n",
            "Name: charges, Length: 267, dtype: float64\n",
            "Standaryzacja wartości\n",
            "[[-0.1646396  -0.37690872  0.         ... -0.56148993 -0.51517263\n",
            "   1.6       ]\n",
            " [-1.28818655  0.75971397  1.68985649 ...  1.78097586 -0.51517263\n",
            "  -0.625     ]\n",
            " [-0.51574802  0.24089521  0.         ... -0.56148993 -0.51517263\n",
            "  -0.625     ]\n",
            " ...\n",
            " [-1.63929497  0.27502802  0.84492825 ... -0.56148993  1.94109689\n",
            "  -0.625     ]\n",
            " [ 1.59090249  0.93208468 -0.84492825 ... -0.56148993  1.94109689\n",
            "  -0.625     ]\n",
            " [ 0.74824229 -1.05615171  1.68985649 ... -0.56148993 -0.51517263\n",
            "  -0.625     ]] [[ 0.81846397 -1.34798726  1.68985649 ... -0.56148993 -0.51517263\n",
            "  -0.625     ]\n",
            " [-1.21796486  0.59416983 -0.84492825 ... -0.56148993  1.94109689\n",
            "  -0.625     ]\n",
            " [ 1.09935071 -1.41283961 -0.84492825 ... -0.56148993 -0.51517263\n",
            "  -0.625     ]\n",
            " ...\n",
            " [-1.35840823  0.73240772  1.68985649 ... -0.56148993 -0.51517263\n",
            "   1.6       ]\n",
            " [ 0.60779892  0.07876434  1.68985649 ...  1.78097586 -0.51517263\n",
            "  -0.625     ]\n",
            " [ 1.02912902  1.58914134 -0.84492825 ... -0.56148993  1.94109689\n",
            "  -0.625     ]]\n"
          ],
          "name": "stdout"
        }
      ]
    },
    {
      "cell_type": "code",
      "metadata": {
        "colab": {
          "base_uri": "https://localhost:8080/",
          "height": 552
        },
        "id": "Ib17X_4N34g7",
        "outputId": "0b17c8e8-4c6d-444c-c047-a8f3d53e0904"
      },
      "source": [
        "import matplotlib.pyplot as plt\n",
        "\n",
        "#Matplotlib\n",
        "\n",
        "print('Przygotowanie danych pod wykres')\n",
        "x = [15,25,30,50,70,80]\n",
        "y = [20,250,300,700,800,2000]\n",
        "fig = plt.figure()\n",
        "print('Stworzenie subplota')\n",
        "ax = fig.add_subplot()\n",
        "print('Stworzenie wykresu wraz ze zmianą koloru lini')\n",
        "ax.plot(x, y, color='red')\n",
        "print('Umieszczenie napisu w punkcie o określonych koordynatach')\n",
        "ax.text(1,-2.1, 'Test', style='italic')\n",
        "print('Ustawienie tytułu wykresu oraz oznaczenie obu osi')\n",
        "ax.set(title='Przeczytane książki', ylabel='Ilość', xlabel='Wiek')\n",
        "\n",
        "print('Rysowanie histogramu')\n",
        "fig = plt.figure()\n",
        "fig.add_axes()\n",
        "ax2 = fig.add_subplot(212)\n",
        "ax2.hist(y)\n",
        "plt.legend()\n",
        "\n",
        "plt.show()\n",
        "plt.close()"
      ],
      "execution_count": 67,
      "outputs": [
        {
          "output_type": "stream",
          "text": [
            "No handles with labels found to put in legend.\n"
          ],
          "name": "stderr"
        },
        {
          "output_type": "stream",
          "text": [
            "Przygotowanie danych pod wykres\n",
            "Stworzenie subplota\n",
            "Stworzenie wykresu wraz ze zmianą koloru lini\n",
            "Umieszczenie napisu w punkcie o określonych koordynatach\n",
            "Ustawienie tytułu wykresu oraz oznaczenie obu osi\n",
            "Rysowanie histogramu\n"
          ],
          "name": "stdout"
        },
        {
          "output_type": "display_data",
          "data": {
            "image/png": "[encoded data removed]",
            "text/plain": [
              "<Figure size 432x288 with 1 Axes>"
            ]
          },
          "metadata": {
            "tags": [],
            "needs_background": "light"
          }
        },
        {
          "output_type": "display_data",
          "data": {
            "image/png": "[encoded data removed]",
            "text/plain": [
              "<Figure size 432x288 with 1 Axes>"
            ]
          },
          "metadata": {
            "tags": [],
            "needs_background": "light"
          }
        }
      ]
    },
    {
      "cell_type": "code",
      "metadata": {
        "colab": {
          "base_uri": "https://localhost:8080/",
          "height": 1000
        },
        "id": "WiBurMzp7jMX",
        "outputId": "4da87e8d-240c-4b55-d140-c282c533fedf"
      },
      "source": [
        "import seaborn as sns\n",
        "\n",
        "#Seaborn\n",
        "\n",
        "print('Załadowanie przykładowych danych')\n",
        "tips = sns.load_dataset(\"tips\")\n",
        "print(tips)\n",
        "\n",
        "print('Ustalenie stylu')\n",
        "sns.set_style(\"whitegrid\")\n",
        "\n",
        "print('Umieszczenie danych na wykresie oraz opisanie osi')\n",
        "h = sns.lmplot(x=\"tip\",y=\"total_bill\",data=tips,aspect=2)\n",
        "plt.show(h)\n",
        "\n",
        "print('Rysowanie kropkowanego wykresu')\n",
        "iris = sns.load_dataset(\"iris\")\n",
        "sns.stripplot(x=\"species\", y=\"petal_length\", data=iris)\n",
        "plt.show()\n",
        "plt.close()\n",
        "\n",
        "print('Rysowanie wykresu skrzypcowego')\n",
        "titanic = sns.load_dataset(\"titanic\")\n",
        "sns.violinplot(x=\"age\", y=\"sex\", hue=\"survived\", data=titanic)\n",
        "plt.show()\n",
        "plt.close()"
      ],
      "execution_count": 83,
      "outputs": [
        {
          "output_type": "stream",
          "text": [
            "Załadowanie przykładowych danych\n",
            "     total_bill   tip     sex smoker   day    time  size\n",
            "0         16.99  1.01  Female     No   Sun  Dinner     2\n",
            "1         10.34  1.66    Male     No   Sun  Dinner     3\n",
            "2         21.01  3.50    Male     No   Sun  Dinner     3\n",
            "3         23.68  3.31    Male     No   Sun  Dinner     2\n",
            "4         24.59  3.61  Female     No   Sun  Dinner     4\n",
            "..          ...   ...     ...    ...   ...     ...   ...\n",
            "239       29.03  5.92    Male     No   Sat  Dinner     3\n",
            "240       27.18  2.00  Female    Yes   Sat  Dinner     2\n",
            "241       22.67  2.00    Male    Yes   Sat  Dinner     2\n",
            "242       17.82  1.75    Male     No   Sat  Dinner     2\n",
            "243       18.78  3.00  Female     No  Thur  Dinner     2\n",
            "\n",
            "[244 rows x 7 columns]\n",
            "Ustalenie stylu\n",
            "Umieszczenie danych na wykresie oraz opisanie osi\n"
          ],
          "name": "stdout"
        },
        {
          "output_type": "display_data",
          "data": {
            "image/png": "[encoded data removed]",
            "text/plain": [
              "<Figure size 720x360 with 1 Axes>"
            ]
          },
          "metadata": {
            "tags": []
          }
        },
        {
          "output_type": "stream",
          "text": [
            "Rysowanie kropkowanego wykresu\n"
          ],
          "name": "stdout"
        },
        {
          "output_type": "display_data",
          "data": {
            "image/png": "[encoded data removed]",
            "text/plain": [
              "<Figure size 432x288 with 1 Axes>"
            ]
          },
          "metadata": {
            "tags": []
          }
        },
        {
          "output_type": "display_data",
          "data": {
            "image/png": "[encoded data removed]",
            "text/plain": [
              "<Figure size 432x288 with 1 Axes>"
            ]
          },
          "metadata": {
            "tags": []
          }
        }
      ]
    },
    {
      "cell_type": "code",
      "metadata": {
        "colab": {
          "base_uri": "https://localhost:8080/"
        },
        "id": "03INhPdTBSCS",
        "outputId": "6590b4b1-7deb-4301-fcdd-1ff3b93aaf06"
      },
      "source": [
        "from bokeh.plotting import figure, output_file, show\n",
        "\n",
        "#Bokeh\n",
        "\n",
        "print('Zdefiniowanie danych')\n",
        "x = [1, 2, 3, 4, 5]\n",
        "y = [6, 7, 2, 4, 5]\n",
        "\n",
        "print('Utworzenie wykresu')\n",
        "p = figure(title=\"simple line example\", x_axis_label='x',y_axis_label='y')\n",
        "\n",
        "print('Dostarczenie do wykresu danych')\n",
        "p.line(x, y, legend=\"Temp.\", line_width=2)\n",
        "\n",
        "print('Wskazanie pliku do którego zapisać dane')\n",
        "output_file(\"lines.html\")\n",
        "\n",
        "print('Wyświetlenie wyniku')\n",
        "show(p)"
      ],
      "execution_count": 86,
      "outputs": [
        {
          "output_type": "stream",
          "text": [
            "Zdefiniowanie danych\n",
            "Utworzenie wykresu\n",
            "Dostarczenie do wykresu danych\n",
            "Wskazanie pliku do którego zapisać dane\n",
            "Wyświetlenie wyniku\n"
          ],
          "name": "stdout"
        },
        {
          "output_type": "stream",
          "text": [
            "BokehDeprecationWarning: 'legend' keyword is deprecated, use explicit 'legend_label', 'legend_field', or 'legend_group' keywords instead\n"
          ],
          "name": "stderr"
        }
      ]
    }
  ]
}